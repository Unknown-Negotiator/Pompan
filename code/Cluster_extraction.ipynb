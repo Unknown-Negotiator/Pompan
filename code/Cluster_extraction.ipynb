{
 "cells": [
  {
   "cell_type": "markdown",
   "id": "7f484384",
   "metadata": {},
   "source": [
    "1) Fasta seq-es parsing"
   ]
  },
  {
   "cell_type": "code",
   "execution_count": 3,
   "id": "4bacc150",
   "metadata": {},
   "outputs": [],
   "source": [
    "import fastaparser\n",
    "import os"
   ]
  },
  {
   "cell_type": "code",
   "execution_count": 26,
   "id": "0f2fd305",
   "metadata": {},
   "outputs": [],
   "source": [
    "def fasta_files_to_dict(fasta_files_dir):\n",
    "    fasta_dict = {}\n",
    "    fasta_files = os.listdir(fasta_files_dir)\n",
    "    fasta_files.sort()\n",
    "    for file in fasta_files:\n",
    "        with open(fasta_files_dir + '/' + file) as fa:\n",
    "            parser = fastaparser.Reader(fa, parse_method='quick')\n",
    "            for item in parser:\n",
    "                fasta_dict[item.header.split()[0][1:]] = item.sequence\n",
    "    return fasta_dict"
   ]
  },
  {
   "cell_type": "code",
   "execution_count": 27,
   "id": "51639d77",
   "metadata": {},
   "outputs": [],
   "source": [
    "fasta_files_dir = '/home/doctor/pompan/cluster_extraction/input/proteins'"
   ]
  },
  {
   "cell_type": "code",
   "execution_count": 28,
   "id": "99efe550",
   "metadata": {},
   "outputs": [],
   "source": [
    "big_dic = fasta_files_to_dict(fasta_files_dir)"
   ]
  },
  {
   "cell_type": "markdown",
   "id": "d8b02d57",
   "metadata": {},
   "source": [
    "2) TSV parsing"
   ]
  },
  {
   "cell_type": "code",
   "execution_count": 19,
   "id": "c0a942bd",
   "metadata": {},
   "outputs": [],
   "source": [
    "def tsv_clusters_parser(single_copy_orthologs):\n",
    "    '''\n",
    "    Args:\n",
    "        single_copy_orthologs: filtered tsv file with clusters of orthologs (proteinOrtho output file, where clusters with exceeding or deficient number of genes compared to the total number of observed sequences are deleted)\n",
    "    Returns:\n",
    "        list of clusters, where each cluster is a list of names, representing sequences included in that cluster\n",
    "    '''\n",
    "    with open(single_copy_orthologs) as file:\n",
    "        clusters = file.read().rstrip().split('\\n')\n",
    "    result = []\n",
    "    for cluster in clusters:\n",
    "        result += [cluster.split('\\t')[3:]]\n",
    "    return result"
   ]
  },
  {
   "cell_type": "code",
   "execution_count": 20,
   "id": "a8ea8e80",
   "metadata": {},
   "outputs": [],
   "source": [
    "single_copy_orthologs = '/home/doctor/pompan/cluster_extraction/single_copy_orthologs.tsv'"
   ]
  },
  {
   "cell_type": "code",
   "execution_count": 21,
   "id": "689709f5",
   "metadata": {},
   "outputs": [],
   "source": [
    "result = tsv_clusters_parser(single_copy_orthologs)"
   ]
  },
  {
   "cell_type": "code",
   "execution_count": 22,
   "id": "ad13f9ca",
   "metadata": {},
   "outputs": [
    {
     "name": "stdout",
     "output_type": "stream",
     "text": [
      "['HAKLFBJG_00008', 'EKGDDEJB_00009', 'LLILAMIN_00006', 'JALFEBEM_00008', 'NDMFMGIM_00007', 'EJIIHJBD_00008', 'LPALIGJD_00006']\n",
      "['HAKLFBJG_00001', 'EKGDDEJB_00001', 'LLILAMIN_00001', 'JALFEBEM_00001', 'NDMFMGIM_00001', 'EJIIHJBD_00001', 'LPALIGJD_00001']\n",
      "['HAKLFBJG_00003', 'EKGDDEJB_00003', 'LLILAMIN_00003', 'JALFEBEM_00003', 'NDMFMGIM_00003', 'EJIIHJBD_00003', 'LPALIGJD_00003']\n",
      "['HAKLFBJG_00006', 'EKGDDEJB_00007', 'LLILAMIN_00004', 'JALFEBEM_00006', 'NDMFMGIM_00005', 'EJIIHJBD_00006', 'LPALIGJD_00004']\n",
      "['HAKLFBJG_00002', 'EKGDDEJB_00002', 'LLILAMIN_00002', 'JALFEBEM_00002', 'NDMFMGIM_00002', 'EJIIHJBD_00002', 'LPALIGJD_00002']\n"
     ]
    }
   ],
   "source": [
    "for lst in result:\n",
    "    print(lst)"
   ]
  },
  {
   "cell_type": "markdown",
   "id": "5e0daa2e",
   "metadata": {},
   "source": [
    "3) Extraction itself"
   ]
  },
  {
   "cell_type": "code",
   "execution_count": 23,
   "id": "43c5d426",
   "metadata": {},
   "outputs": [],
   "source": [
    "def extract_clusters(fasta_dict, clusters_list):\n",
    "    list_of_cluster_dicts = []\n",
    "    for cluster in clusters_list:\n",
    "        cluster_dict = {}\n",
    "        for seq_name in cluster:\n",
    "            cluster_dict[seq_name] = fasta_dict[seq_name]\n",
    "        list_of_cluster_dicts += [cluster_dict]\n",
    "    return list_of_cluster_dicts"
   ]
  },
  {
   "cell_type": "code",
   "execution_count": 31,
   "id": "784da5df",
   "metadata": {},
   "outputs": [],
   "source": [
    "list_of_cluster_dicts = extract_clusters(big_dic, result)"
   ]
  },
  {
   "cell_type": "markdown",
   "id": "337f8819",
   "metadata": {},
   "source": [
    "4) Make output fasta files"
   ]
  },
  {
   "cell_type": "code",
   "execution_count": 46,
   "id": "617409c6",
   "metadata": {},
   "outputs": [],
   "source": [
    "def fasta_writer(fasta_dict, output_path): #Method defined in other scripts\n",
    "    \"\"\"\n",
    "    Args:\n",
    "        fasta_dict: dictionary with key == fasta header; value == concatenated sequences\n",
    "        output_path: path to the file for output\n",
    "    Returns:\n",
    "        writes concatenated sequences to the output file in fasta format\n",
    "    \"\"\"\n",
    "    file = output_path\n",
    "    with open(file, \"w\") as fh:\n",
    "        for key, value in fasta_dict.items():\n",
    "            fh.write('>' + key + '\\n' + value + '\\n')"
   ]
  },
  {
   "cell_type": "code",
   "execution_count": 47,
   "id": "151e4da7",
   "metadata": {},
   "outputs": [],
   "source": [
    "def make_fasta_files(list_of_cluster_dicts, output_dir):\n",
    "    count = 0\n",
    "    for cluster_dict in list_of_cluster_dicts:\n",
    "        count += 1\n",
    "        fasta_writer(cluster_dict, output_dir + '/cluster' + str(count))"
   ]
  },
  {
   "cell_type": "code",
   "execution_count": 48,
   "id": "83412def",
   "metadata": {},
   "outputs": [],
   "source": [
    "output_dir = '/home/doctor/pompan/cluster_extraction/output'"
   ]
  },
  {
   "cell_type": "code",
   "execution_count": 49,
   "id": "9dd97a17",
   "metadata": {},
   "outputs": [],
   "source": [
    "make_fasta_files(list_of_cluster_dicts, output_dir)"
   ]
  },
  {
   "cell_type": "code",
   "execution_count": null,
   "id": "8f9b3ef3",
   "metadata": {},
   "outputs": [],
   "source": []
  },
  {
   "cell_type": "code",
   "execution_count": null,
   "id": "c104a57f",
   "metadata": {},
   "outputs": [],
   "source": []
  },
  {
   "cell_type": "code",
   "execution_count": null,
   "id": "d90b44fb",
   "metadata": {},
   "outputs": [],
   "source": []
  },
  {
   "cell_type": "code",
   "execution_count": null,
   "id": "7c7bcebb",
   "metadata": {},
   "outputs": [],
   "source": []
  },
  {
   "cell_type": "code",
   "execution_count": null,
   "id": "6f77fe2b",
   "metadata": {},
   "outputs": [],
   "source": []
  },
  {
   "cell_type": "code",
   "execution_count": null,
   "id": "b6349da2",
   "metadata": {},
   "outputs": [],
   "source": []
  }
 ],
 "metadata": {
  "kernelspec": {
   "display_name": "Python 3 (ipykernel)",
   "language": "python",
   "name": "python3"
  },
  "language_info": {
   "codemirror_mode": {
    "name": "ipython",
    "version": 3
   },
   "file_extension": ".py",
   "mimetype": "text/x-python",
   "name": "python",
   "nbconvert_exporter": "python",
   "pygments_lexer": "ipython3",
   "version": "3.9.5"
  }
 },
 "nbformat": 4,
 "nbformat_minor": 5
}
